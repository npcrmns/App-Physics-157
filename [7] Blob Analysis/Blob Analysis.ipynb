{
 "cells": [
  {
   "cell_type": "markdown",
   "id": "a9187a0a-216f-4656-92ce-c24abe88dbe4",
   "metadata": {},
   "source": [
    "# Blob Analysis\n",
    "\n",
    "The past two activities taught you how to segment a region of interest according to grayscale or \n",
    "color, and how to clean up a thresholded image using morphological operations. Let us assume you \n",
    "have succeeded in getting a clean segmented binary image, where white blobs of connected pixels \n",
    "are the regions of interest and black pixels are the background. In this activity, we learn how to \n",
    "**extract features** from these blobs."
   ]
  },
  {
   "cell_type": "code",
   "execution_count": 2,
   "id": "6d76d6b1-e776-4621-b63d-6f686dc0ab7f",
   "metadata": {},
   "outputs": [],
   "source": [
    "import numpy as np\n",
    "import matplotlib.pyplot as plt\n",
    "import matplotlib.gridspec as gridspec\n",
    "from PIL import Image\n",
    "from matplotlib.patches import Rectangle\n",
    "from scipy.ndimage import binary_dilation, binary_erosion, binary_closing, binary_opening\n",
    "\n",
    "plt.rcParams[\"figure.figsize\"] = (4,4)\n",
    "plt.rcParams[\"savefig.dpi\"] = 300\n",
    "plt.rcParams[\"savefig.bbox\"] = \"tight\"\n",
    "plt.rcParams[\"savefig.pad_inches\"] = 0.1\n",
    "# plt.rcParams[\"text.usetex\"] = True\n",
    "\n",
    "# Supress warnings\n",
    "import warnings\n",
    "warnings.filterwarnings('ignore')"
   ]
  },
  {
   "cell_type": "markdown",
   "id": "0d490481-4c44-47b7-88ae-71b806c42532",
   "metadata": {},
   "source": [
    "## Image segmentation\n",
    "\n",
    "Codes adapted for parametric and nonparametric segmentation from the previous activities"
   ]
  },
  {
   "cell_type": "code",
   "execution_count": null,
   "id": "030ac005-f896-4769-abb7-e4a1f320cdb0",
   "metadata": {},
   "outputs": [],
   "source": []
  },
  {
   "cell_type": "markdown",
   "id": "f0a20c11-cf6f-4f6d-a054-6cbbcc7611ae",
   "metadata": {},
   "source": [
    "## Structuring elements\n",
    "\n",
    "Adapted from the previous activity on morphological operations"
   ]
  },
  {
   "cell_type": "code",
   "execution_count": 3,
   "id": "c2b5c638-9205-443d-8d38-81841bba8723",
   "metadata": {},
   "outputs": [],
   "source": [
    "# Structuring elements\n",
    "square_5 = np.zeros((11, 11))\n",
    "square_5[3:8, 3:8] = 1\n",
    "\n",
    "square_5s = np.zeros((11, 11))\n",
    "square_5s[3:8, 3:8] = 1"
   ]
  }
 ],
 "metadata": {
  "kernelspec": {
   "display_name": "Python 3 (ipykernel)",
   "language": "python",
   "name": "python3"
  },
  "language_info": {
   "codemirror_mode": {
    "name": "ipython",
    "version": 3
   },
   "file_extension": ".py",
   "mimetype": "text/x-python",
   "name": "python",
   "nbconvert_exporter": "python",
   "pygments_lexer": "ipython3",
   "version": "3.10.9"
  }
 },
 "nbformat": 4,
 "nbformat_minor": 5
}
