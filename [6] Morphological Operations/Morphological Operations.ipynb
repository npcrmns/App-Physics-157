{
 "cells": [
  {
   "cell_type": "markdown",
   "id": "6fc9d8cd-f4d6-4c8d-88a4-df9efa2a0209",
   "metadata": {},
   "source": [
    "# Morphological Operations\n",
    "\n",
    "*Morphology* refers to shape or structure. In image processing, classical morphological operations are treatments done on binary images, in particular, aggregates of 1’s or 0’s, that form shapes. Morphological operations act on these shapes to improve them for further processing or to extract information from the. All morphological operations affect the shape of the image in some way, for example, the shapes may be expanded, thinned, internal holes could be closed, disconnected blobs can be joined."
   ]
  }
 ],
 "metadata": {
  "kernelspec": {
   "display_name": "Python 3 (ipykernel)",
   "language": "python",
   "name": "python3"
  },
  "language_info": {
   "codemirror_mode": {
    "name": "ipython",
    "version": 3
   },
   "file_extension": ".py",
   "mimetype": "text/x-python",
   "name": "python",
   "nbconvert_exporter": "python",
   "pygments_lexer": "ipython3",
   "version": "3.10.9"
  }
 },
 "nbformat": 4,
 "nbformat_minor": 5
}
