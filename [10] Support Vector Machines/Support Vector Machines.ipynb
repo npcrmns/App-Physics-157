{
 "cells": [
  {
   "cell_type": "markdown",
   "id": "4391a8cf-2ac9-42d7-9408-568635644d28",
   "metadata": {},
   "source": [
    "# Support Vector Machines"
   ]
  }
 ],
 "metadata": {
  "kernelspec": {
   "display_name": "Python 3 (ipykernel)",
   "language": "python",
   "name": "python3"
  },
  "language_info": {
   "codemirror_mode": {
    "name": "ipython",
    "version": 3
   },
   "file_extension": ".py",
   "mimetype": "text/x-python",
   "name": "python",
   "nbconvert_exporter": "python",
   "pygments_lexer": "ipython3",
   "version": "3.10.9"
  }
 },
 "nbformat": 4,
 "nbformat_minor": 5
}
