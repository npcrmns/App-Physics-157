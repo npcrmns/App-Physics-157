{
 "cells": [
  {
   "cell_type": "markdown",
   "id": "080380c1-9033-4d6b-860f-1d33c37e0d5e",
   "metadata": {},
   "source": [
    "# Neural Networks"
   ]
  },
  {
   "cell_type": "code",
   "execution_count": 1,
   "id": "59dfbc01-448c-46ca-85a2-5b4cc97cee0a",
   "metadata": {},
   "outputs": [],
   "source": [
    "import numpy as np\n",
    "import pandas as pd\n",
    "import matplotlib.pyplot as plt\n",
    "\n",
    "plt.rcParams[\"figure.figsize\"] = (4,4)\n",
    "plt.rcParams[\"savefig.dpi\"] = 300\n",
    "plt.rcParams[\"savefig.bbox\"] = \"tight\"\n",
    "plt.rcParams[\"savefig.pad_inches\"] = 0.1\n",
    "# plt.rcParams[\"text.usetex\"] = True\n",
    "\n",
    "# Supress warnings\n",
    "import warnings\n",
    "warnings.filterwarnings('ignore')"
   ]
  },
  {
   "cell_type": "markdown",
   "id": "6630c5cc-8a89-400c-ad01-8f2148116957",
   "metadata": {},
   "source": [
    "## Sigmoid functions"
   ]
  },
  {
   "cell_type": "code",
   "execution_count": 2,
   "id": "c4dc5fa1-b98a-487c-a929-e21d4b4c5857",
   "metadata": {},
   "outputs": [],
   "source": [
    "def g(a): # shifted\n",
    "    return (2/(1 + np.exp(-a))) - 1 \n",
    "\n",
    "def G(a): # unshifted\n",
    "    return 1/(1 + np.exp(-a))\n",
    "\n",
    "def g_prime(a):\n",
    "    return 2 * G(a) * (1 - G(a))"
   ]
  },
  {
   "cell_type": "code",
   "execution_count": 3,
   "id": "2c746be5-07a7-48f7-b5be-78f09166dcd3",
   "metadata": {},
   "outputs": [],
   "source": [
    "order = 12\n",
    "N = 30\n",
    "w_kj = np.random.random(order)\n",
    "\n",
    "x = np.linspace(0,1,N)\n",
    "x_vector = np.zeros((len(x), order))\n",
    "\n",
    "for i in range(len(x)):\n",
    "    for j in range(order):\n",
    "        x_vector[i,j] = x[i]**j"
   ]
  },
  {
   "cell_type": "markdown",
   "id": "28d1fcad-eb27-463f-a92a-ff653d393e7a",
   "metadata": {},
   "source": [
    "## Random points for sine wave"
   ]
  },
  {
   "cell_type": "code",
   "execution_count": 4,
   "id": "9d377a99-1bf0-4ee0-aa19-515ef6aeec6c",
   "metadata": {},
   "outputs": [],
   "source": [
    "noise = np.random.normal(0,np.sqrt(0.05), N)\n",
    "output = np.sin(2*np.pi*x)"
   ]
  },
  {
   "cell_type": "markdown",
   "id": "ecc784b2-8136-4c43-afb0-d4890217e746",
   "metadata": {},
   "source": [
    "## Neural net algorithm"
   ]
  },
  {
   "cell_type": "code",
   "execution_count": 5,
   "id": "82519231-e879-4b86-9ca6-b11f8a9c208c",
   "metadata": {},
   "outputs": [],
   "source": [
    "def neural_net(X, w_kj, index):\n",
    "    # output unit\n",
    "    a_k = np.sum(w_kj * X)\n",
    "    y_k = g(a_k)\n",
    "    \n",
    "    # expected output\n",
    "    t_k = np.sin(2 * np.pi * X[1])\n",
    "    \n",
    "    # error of output units\n",
    "    delta_k = g_prime(a_k) * (y_k - t_k)\n",
    "\n",
    "    #error derivatives\n",
    "    error_kj = delta_k * X\n",
    "    \n",
    "    #total sum of squares error\n",
    "    E_q = ((y_k - t_k)**2) / 2\n",
    "    \n",
    "    return E_q, error_kj"
   ]
  },
  {
   "cell_type": "code",
   "execution_count": 6,
   "id": "637155fc-a9ce-4876-9353-b06299b336f6",
   "metadata": {},
   "outputs": [],
   "source": [
    "counter = 0\n",
    "e_vals = []\n",
    "\n",
    "while True:\n",
    "    E = []\n",
    "    error_kj = []\n",
    "    \n",
    "    index = 0\n",
    "    for X in x_vector:\n",
    "        E_q, e_kj = neural_net(X, w_kj, index)\n",
    "        E.append(E_q)\n",
    "        error_kj.append(e_kj)\n",
    "        index += 1\n",
    "    \n",
    "    # count epochs\n",
    "    counter += 1\n",
    "    e_vals.append(np.sum(E))\n",
    "    \n",
    "    # calculating change in weights\n",
    "    learning_rate = 0.1\n",
    "    delta_wkj = - learning_rate * np.sum(error_kj, axis = 0)\n",
    "    \n",
    "    # change weights\n",
    "    w_kj += delta_wkj\n",
    "    \n",
    "    # minimizing error\n",
    "    if np.sum(E) < 0.1:\n",
    "        break"
   ]
  },
  {
   "cell_type": "markdown",
   "id": "8969103d-1311-46c4-8639-fef6c8aa1400",
   "metadata": {},
   "source": [
    "## Convergence"
   ]
  },
  {
   "cell_type": "code",
   "execution_count": 7,
   "id": "9e4be788-5048-4e87-ba05-c67c57d5414b",
   "metadata": {},
   "outputs": [
    {
     "data": {
      "image/png": "[encoded data removed]",
      "text/plain": [
       "<Figure size 400x400 with 1 Axes>"
      ]
     },
     "metadata": {},
     "output_type": "display_data"
    }
   ],
   "source": [
    "plt.plot(np.arange(counter), e_vals, color = \"blue\")\n",
    "plt.xlabel(\"Epochs\")\n",
    "plt.ylabel(\"E\")\n",
    "plt.savefig(\"convergence.png\")"
   ]
  },
  {
   "cell_type": "code",
   "execution_count": 8,
   "id": "6023fe28-a8fe-4d54-b8e5-73fc6b5ee246",
   "metadata": {},
   "outputs": [],
   "source": [
    "test = np.linspace(0,1)\n",
    "test_vector = np.zeros((len(test),order))\n",
    "\n",
    "for i in range(len(test)):\n",
    "    for j in range(order):\n",
    "        test_vector[i,j] = test[i]**j"
   ]
  },
  {
   "cell_type": "code",
   "execution_count": 9,
   "id": "a816664c-f895-4010-810c-ffc7e74cdb78",
   "metadata": {},
   "outputs": [],
   "source": [
    "test_vals = []\n",
    "\n",
    "for t in test_vector:\n",
    "    test_vals.append(g(np.sum(t*w_kj)))"
   ]
  },
  {
   "cell_type": "code",
   "execution_count": 10,
   "id": "d6026973-b42c-4fb8-8138-810deaba3b2c",
   "metadata": {},
   "outputs": [
    {
     "data": {
      "image/png": "[encoded data removed]",
      "text/plain": [
       "<Figure size 400x400 with 1 Axes>"
      ]
     },
     "metadata": {},
     "output_type": "display_data"
    }
   ],
   "source": [
    "plt.plot(x, np.sin(2*np.pi*x), label = \"theoretical\" , color = \"black\", linestyle = \"--\")\n",
    "# plt.scatter(x,output,c='black')\n",
    "plt.plot(test_vector[:,1], test_vals, label = \"network fit\", color = \"red\")\n",
    "plt.xlabel(r\"$x$\")\n",
    "plt.ylabel(r\"$y$\")\n",
    "plt.legend()\n",
    "plt.savefig(\"generated.png\")"
   ]
  }
 ],
 "metadata": {
  "kernelspec": {
   "display_name": "Python 3 (ipykernel)",
   "language": "python",
   "name": "python3"
  },
  "language_info": {
   "codemirror_mode": {
    "name": "ipython",
    "version": 3
   },
   "file_extension": ".py",
   "mimetype": "text/x-python",
   "name": "python",
   "nbconvert_exporter": "python",
   "pygments_lexer": "ipython3",
   "version": "3.10.9"
  }
 },
 "nbformat": 4,
 "nbformat_minor": 5
}
