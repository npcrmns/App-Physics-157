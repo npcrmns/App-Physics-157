{
 "cells": [
  {
   "cell_type": "markdown",
   "id": "097a3691-1caa-4315-b351-f94b5a859c97",
   "metadata": {},
   "source": [
    "# Classifier"
   ]
  },
  {
   "cell_type": "code",
   "execution_count": 1,
   "id": "86199ee3-28b5-4be2-a5bb-c8f2e489c609",
   "metadata": {},
   "outputs": [],
   "source": [
    "import numpy as np\n",
    "import pandas as pd\n",
    "import matplotlib.pyplot as plt\n",
    "\n",
    "plt.rcParams[\"figure.figsize\"] = (4,4)\n",
    "plt.rcParams[\"savefig.dpi\"] = 300\n",
    "plt.rcParams[\"savefig.bbox\"] = \"tight\"\n",
    "plt.rcParams[\"savefig.pad_inches\"] = 0.1\n",
    "# plt.rcParams[\"text.usetex\"] = True\n",
    "\n",
    "# Supress warnings\n",
    "import warnings\n",
    "warnings.filterwarnings('ignore')"
   ]
  },
  {
   "cell_type": "code",
   "execution_count": 2,
   "id": "7e2ee337-2808-4fbd-80c5-e30c1415b7c8",
   "metadata": {},
   "outputs": [],
   "source": [
    "roses = pd.read_csv(\"rose.csv\").drop(\"Unnamed: 0\", 1).values\n",
    "butterflypeas = pd.read_csv(\"butterflypea.csv\").drop(\"Unnamed: 0\", 1).values\n",
    "chrysanthemums = pd.read_csv(\"chrysanthemum.csv\").drop(\"Unnamed: 0\", 1).values"
   ]
  },
  {
   "cell_type": "markdown",
   "id": "f5609265-5a2f-4872-8749-040564595d57",
   "metadata": {},
   "source": [
    "## Activation function"
   ]
  },
  {
   "cell_type": "code",
   "execution_count": 3,
   "id": "20a19dc0-ef12-4fe7-a18d-2e6cc1d14f7c",
   "metadata": {},
   "outputs": [],
   "source": [
    "def g(a):\n",
    "    return 1/(1 + np.exp(-a))\n",
    "\n",
    "def g_prime(a):\n",
    "    return g(a) * (1 - g(a))"
   ]
  },
  {
   "cell_type": "markdown",
   "id": "89043500-40ab-4898-8cd1-ca421ae025b7",
   "metadata": {},
   "source": [
    "## Neural net algorithm"
   ]
  },
  {
   "cell_type": "code",
   "execution_count": 4,
   "id": "a2e546a3-117c-440a-8fde-eb5b937afdb0",
   "metadata": {},
   "outputs": [],
   "source": [
    "def neural_net(x_i, t_k, w_ji, w_kj):\n",
    "    #hidden unit\n",
    "    a_j = w_ji @ x_i\n",
    "    z_j = g(a_j)\n",
    "\n",
    "    #output unit\n",
    "    z_j[0] = 1\n",
    "    a_k = np.sum(w_kj * z_j)\n",
    "    y_k = g(a_k)\n",
    "\n",
    "    #error of output units\n",
    "    delta_k = g_prime(a_k) * (y_k - t_k)\n",
    "\n",
    "    #error of hidden units\n",
    "    delta_j = g_prime(a_j) * (delta_k * w_kj)\n",
    "\n",
    "    #error derivatives\n",
    "    error_kj = delta_k * z_j\n",
    "    error_ji = np.copy(w_ji)\n",
    "    for p in range(len(delta_j)):\n",
    "        error_ji[p] = delta_j[p] * x_i\n",
    "\n",
    "    #total sum of squares error\n",
    "    E_q = ((y_k - t_k)**2) / 2\n",
    "    \n",
    "    return E_q, error_ji, error_kj"
   ]
  },
  {
   "cell_type": "markdown",
   "id": "e7aa3f5d-9f55-4eeb-8640-9ec4c29ec426",
   "metadata": {},
   "source": [
    "## Initialize neural net"
   ]
  },
  {
   "cell_type": "code",
   "execution_count": 5,
   "id": "60e3010d-8476-417a-83f2-c44d28f2243e",
   "metadata": {},
   "outputs": [],
   "source": [
    "t_k1 = 0.3 #roses\n",
    "t_k2 = 0.6 #chrysanthemums\n",
    "t_k3 = 0.9 #butterfly peas"
   ]
  },
  {
   "cell_type": "code",
   "execution_count": 6,
   "id": "cc8f34bb-9bf0-4e2e-9181-eb86ced484fd",
   "metadata": {},
   "outputs": [],
   "source": [
    "w_ji = np.random.random((roses.shape[1],roses.shape[1]+1))\n",
    "w_kj = np.random.random(roses.shape[1])"
   ]
  },
  {
   "cell_type": "code",
   "execution_count": 7,
   "id": "f902315b-33e7-48f5-9e35-b6119d697d63",
   "metadata": {},
   "outputs": [],
   "source": [
    "def pattern(Class,t_k,w_ji,w_kj):\n",
    "    E = []\n",
    "    E_kj = []\n",
    "    E_ji = []\n",
    "\n",
    "    for i in range(len(Class)):\n",
    "        x_i = np.array([1] + Class[i].tolist())\n",
    "        E_q, error_ji, error_kj = neural_net(x_i, t_k, w_ji, w_kj)\n",
    "        E.append(E_q), E_ji.append(error_ji), E_kj.append(error_kj)\n",
    "        \n",
    "    return E,np.sum(E_kj,axis=0), np.sum(E_ji,axis=0)"
   ]
  },
  {
   "cell_type": "code",
   "execution_count": 8,
   "id": "68b49910-03cc-4d82-87fc-725d50c73ce9",
   "metadata": {},
   "outputs": [],
   "source": [
    "errors = []\n",
    "counter = 0\n",
    "\n",
    "while True:    \n",
    "    E1, E_kj1, E_ji1 = pattern(roses[:np.int(len(roses)/2)], t_k1,w_ji,w_kj)\n",
    "    E2, E_kj2, E_ji2 = pattern(chrysanthemums[:np.int(len(chrysanthemums)/2)], t_k2,w_ji,w_kj)\n",
    "    E3, E_kj3, E_ji3 = pattern(butterflypeas[:np.int(len(butterflypeas)/2)], t_k3,w_ji,w_kj)\n",
    "\n",
    "    #sum errors\n",
    "    E = np.sum(E1 + E2 + E3)\n",
    "    E_kj = E_kj1 + E_kj2 + E_kj3\n",
    "    E_ji = E_ji1 + E_ji2 + E_ji3\n",
    "    errors.append(E)\n",
    "\n",
    "    #calculating change in weights\n",
    "    learning_rate = 0.1\n",
    "    delta_wji = -learning_rate * E_ji\n",
    "    delta_wkj = -learning_rate * E_kj\n",
    "\n",
    "    #change weights\n",
    "    w_ji += delta_wji\n",
    "    w_kj += delta_wkj\n",
    "    \n",
    "    #counting epochs\n",
    "    counter += 1\n",
    "    \n",
    "    #minimizing error\n",
    "    if E < 0.01:\n",
    "        break"
   ]
  },
  {
   "cell_type": "markdown",
   "id": "edd00904-460f-43ef-9040-2e456107ce7f",
   "metadata": {},
   "source": [
    "## Convergence"
   ]
  },
  {
   "cell_type": "code",
   "execution_count": 9,
   "id": "15cfe06d-bffd-4cec-acf6-f728f2868d28",
   "metadata": {},
   "outputs": [
    {
     "data": {
      "image/png": "[encoded data removed]",
      "text/plain": [
       "<Figure size 400x400 with 1 Axes>"
      ]
     },
     "metadata": {},
     "output_type": "display_data"
    }
   ],
   "source": [
    "plt.plot(np.arange(counter), errors, color = \"blue\")\n",
    "plt.xlabel(\"Epochs\")\n",
    "plt.ylabel(\"E\")\n",
    "plt.savefig(\"classifier convergence.png\")"
   ]
  }
 ],
 "metadata": {
  "kernelspec": {
   "display_name": "Python 3 (ipykernel)",
   "language": "python",
   "name": "python3"
  },
  "language_info": {
   "codemirror_mode": {
    "name": "ipython",
    "version": 3
   },
   "file_extension": ".py",
   "mimetype": "text/x-python",
   "name": "python",
   "nbconvert_exporter": "python",
   "pygments_lexer": "ipython3",
   "version": "3.10.9"
  }
 },
 "nbformat": 4,
 "nbformat_minor": 5
}
