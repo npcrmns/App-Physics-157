{
 "cells": [
  {
   "attachments": {},
   "cell_type": "markdown",
   "metadata": {},
   "source": [
    "Language models are an important part of natural language processing (NLP) since they provide a way for computers to process or understand the natural language and to be able to extract information that can be used in different applications. These **natural language** are something that is being used by humans and evolves naturally through repetitive use (speech, sign language, non-verbal cues). \n",
    "\n",
    "## What is a language model?\n",
    "\n",
    "In its simplest form, a language model is a probability distribution such that, given a sequence of words, a language model will give the probability of all the words being chosen next in the available vocabulary. For example, given a series of words $w_{1:(t-1)} = (w_1,...,w_{t-1})$, a language model will give us the probability of all words in its vocabulary $V$ to appear next to the series of words.\n",
    "$$\n",
    "P(w_t | w_{1:(t-1)}), \\ \\ \\ \\ \\ \\ \\ w_1,...,w_{t-1}\\in V\n",
    "$$\n",
    "\n",
    "So if we want our model to complete our sentence, we select the word which has the highest probability and then put that word to the series of words and then use the model again to generate the next word. So the essence of a language model is to simply imitate how a human would respond to different prompts.\n",
    "\n",
    "To give an idea of what a language model can do, let us look at the ChatGPT, see @fig-gpt, which is an artificial intelligence (AI) chatbot that is developed by OpenAI last November 2022.\n",
    " \n",
    "![Example of a language model (ChatGPT)](Figures_LLM/chat_gpt_sample.gif){#fig-gpt}\n",
    "\n",
    "We asked the AI to explain quantum computing in simple terms and we see how it was able to provide an extensive discsussion of what quantum computing is. Now, the reason why these AI chatbots are gaining such traction is that it serves as a good starting point when writing or when you want to gain a better understanding of topics that were not discussed properly for example. \n",
    "\n",
    "\n",
    "## Neural Network-Based Language Model (Types of Language Models)\n",
    "\n",
    "ChatGPT is an example of a generative pre-trained transformer (GPT) which is a type of language model that relies on deep learning that generates texts based on a given input text.  \n",
    "\n",
    "## Training Language Models\n",
    "Focusing on the transformer models, we need to know how the neural network model is being trained: including the *pre-training* and *fine-tuning* processes. In pre-training process, we provide a general language model that has a good understarding of how language is being used in a variety of settings. \n",
    "\n",
    "For a neural network, we use $n$ inputs and then it is processed in several hidden layers until it reaches an output layer. Ideally, we want the output of our neural network to be close to the actual/real output. If that is not the case, then we use **gradient descent** to change the parameters to reduce the loss function of our network. In gradient descent, what happens is we use the output and compute some values and then feed it back to our hidden layers until the loss is minimized, which is why the process is also called backpropagation, see @fig-neural.\n",
    "\n",
    "![Simplified Neural Network](Figures_LLM/neural_network.png){#fig-neural}\n",
    "\n",
    "One problem of the neural network above is that the input size is fixed and in general, we would want to process input sizes that are longer or shorter. Now in the field of language moelling, there are two types of networks that were considered state of the art: *recurrent neural networks* and *long short-term memory networks*.\n",
    "\n",
    "#### Recurrent neural networks (RNNs)\n",
    "\n",
    "In a recurrent neural network, we still have the same neural network discussed above to every word in a series of words. Whats different for RNNs is that last word (newest word) in the sequence of words has the most influence in choosing the next word and the probability of influence of previous words reduce exponentially as new words are being introduced. We see in @fig-rnn how RNNs are able to connect information (or words) in a sequential manner. \n",
    "\n",
    "![Recurring Neural Network](Figures_LLM/rnn.png){#fig-rnn}\n",
    "\n",
    "This makes sense but the problem is, language in itself is more nuanced in the sense that sometimes we need to take into account not only the last word in our sentence but the sentence as a whole. For example, in @fig-rnn, if we need the output $h_{10}$, the information from the input $x_1$ has very little effect on the output and this might pose a problem if we are for example dealing with a sentence whose subject and verb are very far from each other. Because of this unique feature of language, the concept of older worlds having less influence becomes a bug and is called the *vanishing gradients* problem\n",
    "\n",
    "#### Long short-term memory (LSTM) networks\n",
    "\n",
    "Now LSTMs solve the *vanishing gradients* problem by introducing a \"memory\" state whose influence is determined by gates defined by more learnable parameters. The main difference of LSTM fromm RNN is that the former type of network remembers information for long periods of time by default but has there functions, called gates that can either use the information stored to process the output or to \"forget\" the previous information and not use for the output.\n",
    "\n",
    "![Long Short-Term Memory Network](Figures_LLM/lstm.png){#fig-lstm}\n",
    "\n",
    "In an LSTM network, there are three gates that are needed to pass through. First is the gate that chooses which information to forget, then the second gate decides which information to store. In the second gate, we have two functions which decides which values will be updated and what values will be used to update. Lastly, the third gate will decide which information will be the output.\n",
    "\n",
    "*Drawback of RRN and LSTM*\n",
    "Now, while both networks are successful in predicting the next word given a series of words, one major drawback of these two networks is that they require their input data to be processed sequentially, that is in order to process the next word of input $x_i$, we need the result of the previous input $x_{i-1}$. \n",
    "\n",
    "The *attention* mechanism addresses this issue by stacking the input in a matrix such that they can all be processed at the same time. According to the paper \"Attention is all you need\", the authors defined the attention function as the following:\n",
    "\n",
    "``An attention function can be described as mapping a query and a set of key-value pairs to an output, where the query, keys, values, and output are all vectors. The output is computed as a weighted sum  of the values, where the weight assigned to each value is computed by a compatibility function of the query with the corresponding key.``\n",
    "\n",
    "Now, the attention mechanism is used in a neural network architecture called a **transformer**.\n",
    "\n",
    "Let us now discuss how transformer neural network works. First step is what we call tokenization. Tokenization is the process of converting words or any natural language to tokens which are the ones processed by our computers.  There are three main approaches in tokenization which are the following:\n",
    "\n",
    "- Word-based: Split a sentence on spaces where generally, punctuation marks are also split into different tokens.\n",
    "- Subword-based: Split words into subwords. Example would be \"o c ca sion\".\n",
    "- Character-based: Split sentence into individual characters.\n",
    "\n",
    "For example,  taking the sentence \"Once again Mr. Costner has dragged out a movie for far longer than necessary.\" \n",
    "\n",
    "Using the ``fastai`` module in Python, we can implement the following types of tokenization. For the word-based tokenization, we use the following block of following code:\n"
   ]
  },
  {
   "cell_type": "code",
   "execution_count": 1,
   "metadata": {},
   "outputs": [],
   "source": [
    "from fastai.text.all import *\n",
    "path = untar_data(URLs.IMDB)"
   ]
  },
  {
   "cell_type": "code",
   "execution_count": 2,
   "metadata": {},
   "outputs": [],
   "source": [
    "files = get_text_files(path, folders = ['train', 'test', 'unsup'])"
   ]
  },
  {
   "cell_type": "code",
   "execution_count": 3,
   "metadata": {},
   "outputs": [
    {
     "data": {
      "text/plain": [
       "'Once again Mr. Costner has dragged out a movie for far longer than necessary.'"
      ]
     },
     "execution_count": 3,
     "metadata": {},
     "output_type": "execute_result"
    }
   ],
   "source": [
    "txt = files[0].open().read(); txt[:77]"
   ]
  },
  {
   "cell_type": "code",
   "execution_count": 4,
   "metadata": {},
   "outputs": [
    {
     "name": "stdout",
     "output_type": "stream",
     "text": [
      "(#15) ['Once','again','Mr.','Costner','has','dragged','out','a','movie','for','far','longer','than','necessary','.']\n"
     ]
    }
   ],
   "source": [
    "spacy = WordTokenizer()\n",
    "toks = first(spacy([txt[:77]]))\n",
    "print(coll_repr(toks, 30))"
   ]
  },
  {
   "attachments": {},
   "cell_type": "markdown",
   "metadata": {},
   "source": [
    "For subword tokenization:"
   ]
  },
  {
   "cell_type": "code",
   "execution_count": 5,
   "metadata": {},
   "outputs": [
    {
     "data": {
      "text/html": [
       "\n",
       "<style>\n",
       "    /* Turns off some styling */\n",
       "    progress {\n",
       "        /* gets rid of default border in Firefox and Opera. */\n",
       "        border: none;\n",
       "        /* Needs to be in here for Safari polyfill so background images work as expected. */\n",
       "        background-size: auto;\n",
       "    }\n",
       "    progress:not([value]), progress:not([value])::-webkit-progress-bar {\n",
       "        background: repeating-linear-gradient(45deg, #7e7e7e, #7e7e7e 10px, #5c5c5c 10px, #5c5c5c 20px);\n",
       "    }\n",
       "    .progress-bar-interrupted, .progress-bar-interrupted::-webkit-progress-bar {\n",
       "        background: #F44336;\n",
       "    }\n",
       "</style>\n"
      ],
      "text/plain": [
       "<IPython.core.display.HTML object>"
      ]
     },
     "metadata": {},
     "output_type": "display_data"
    },
    {
     "data": {
      "text/html": [],
      "text/plain": [
       "<IPython.core.display.HTML object>"
      ]
     },
     "metadata": {},
     "output_type": "display_data"
    },
    {
     "data": {
      "text/plain": [
       "'▁O n ce ▁again ▁M r . ▁Co st n er ▁has ▁ d ra g g ed ▁out ▁a ▁movie ▁for ▁far ▁long er ▁than ▁ ne ce s s ar y . ▁A side ▁from ▁the ▁ ter'"
      ]
     },
     "execution_count": 5,
     "metadata": {},
     "output_type": "execute_result"
    }
   ],
   "source": [
    "txts = L(o.open().read() for o in files[:2000])\n",
    "def subword(sz):\n",
    "    sp = SubwordTokenizer(vocab_sz=sz)\n",
    "    sp.setup(txts)\n",
    "    return ' '.join(first(sp([txt]))[:40])\n",
    "subword(1000)"
   ]
  },
  {
   "attachments": {},
   "cell_type": "markdown",
   "metadata": {},
   "source": [
    "Tokenization is an important step in the neural network architecture since it converts the natural language that we understand to these tokens that can be understood by our machines after converter them to numbers, a process called __Numericalization__ which can also be done using the `fastai` module.\n"
   ]
  },
  {
   "attachments": {},
   "cell_type": "markdown",
   "metadata": {},
   "source": [
    "Now that we have the numbers that our computer can process, we can actually now split them into 3 batches: training, validating, and testing batches. We put the training batch in a chosen language model and then validate the results. Now after training our model, we can now actually specify the things that our model can do. In the following chapter, we discuss some of the things that language models can actually do."
   ]
  },
  {
   "attachments": {},
   "cell_type": "markdown",
   "metadata": {},
   "source": [
    "### Different things models for NLP can do!"
   ]
  },
  {
   "attachments": {},
   "cell_type": "markdown",
   "metadata": {},
   "source": [
    "__Text Classification__ \n",
    "\n",
    "There are two types of classification wherein NLP models are very useful for: binary classification and multi-label classification. Binary classification is useful in sentiment analysis where texts can be labeled as something `good` or `bad` which can help informed decisions in fields like politics, and marketing. Multi-label classification on the other hand is useful in organizing and filtering tons of information in social media and news for example."
   ]
  },
  {
   "attachments": {},
   "cell_type": "markdown",
   "metadata": {},
   "source": [
    "__Token Classification__\n",
    "\n",
    "In token classification, we classify the tokens produced after the tokenization process. This is actually useful for example in  in labeling tokens specifically those that can be categorized as people or entities that need to be identified. Another thing that this is useful for is for identifying which part of speech certain words/tokens are. We can actually use NLP models to create those tree diagrams where a sentence can be broken down into different part of speeches!"
   ]
  },
  {
   "attachments": {},
   "cell_type": "markdown",
   "metadata": {},
   "source": [
    "__Translation__\n",
    "\n",
    "Of course, a common application of NLP models is for translating a language to another. Language models learns the structure of the input so that it can be able to translate it to another language with the use of transfer learning models. These transfer learning models are actually useful in order to reduce the time it would take the model to train."
   ]
  },
  {
   "attachments": {},
   "cell_type": "markdown",
   "metadata": {},
   "source": [
    "__Question Answering__\n",
    "\n",
    "Now, one of the most commonly seen application of language models is this question answering. Siri, Alexa, Bixby, and Google Assistant are examples of some end-user products that uses language model to answer day to day questions of people. And because of the sudden interest of the general public to these language models (ChatGPT for example), many researchers and developers have actually made their pre-trained models open access, which means they are publicly available for non-commercial use. An example of this would be the ``alpaca.cpp`` which makes use of the LLaMA foundation model with some finetuning mechanisms and a couple tweaks to make it into a chat interface. Here is a sample gif of how it works. It's basically a locally run ChatGPT!"
   ]
  },
  {
   "attachments": {},
   "cell_type": "markdown",
   "metadata": {},
   "source": [
    "![Example of alpaca.cpp](alpaca_in_motion.gif){#fig-alpaca}"
   ]
  },
  {
   "attachments": {},
   "cell_type": "markdown",
   "metadata": {},
   "source": []
  }
 ],
 "metadata": {
  "kernelspec": {
   "display_name": "Python 3",
   "language": "python",
   "name": "python3"
  },
  "language_info": {
   "codemirror_mode": {
    "name": "ipython",
    "version": 3
   },
   "file_extension": ".py",
   "mimetype": "text/x-python",
   "name": "python",
   "nbconvert_exporter": "python",
   "pygments_lexer": "ipython3",
   "version": "3.10.6"
  },
  "orig_nbformat": 4
 },
 "nbformat": 4,
 "nbformat_minor": 2
}
