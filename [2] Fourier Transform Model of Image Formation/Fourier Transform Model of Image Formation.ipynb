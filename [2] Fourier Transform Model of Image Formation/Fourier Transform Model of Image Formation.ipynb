{
 "cells": [
  {
   "cell_type": "markdown",
   "id": "7e203f34-93d0-43ab-b3ec-413c23155888",
   "metadata": {},
   "source": [
    "# Fourier Transform Model of Image Formation\n",
    "\n",
    "The Fourier transform (FT) transform is one among the many classes of linear transforms that recast information into a set of linear basis functions. In particular, FT converts a signal with  physical dimension $x$ into a signal with dimension $\\frac{1}{x}$ using sinusoids as basis functions. If the signal has dimensions of space, the FT of the signal will have dimensions of inverse space or spatial frequency.\n",
    "\n",
    "The 2D FFT has the following properties:\n",
    "1. The output of FFT2 has quadrants along the diagonals interchanged. That is if the quadrants are labeled in the clockwise direction as $\\begin{bmatrix} 4&1\\\\3&2 \\end{bmatrix}$, the FFT output comes out as $\\begin{bmatrix} 2&4\\\\1&3 \\end{bmatrix}$. The function `fftshift()` interchanges the quadrants back.\n",
    "2. The output of the FFT2 is a complex number array. To view the intensity, use `abs()` function which computes the modulus of the a complex number.\n",
    "3. The inverse FFT2 , `ifft2()`, is just the same as the forward fft2( ) only that the output image may be upside down."
   ]
  },
  {
   "cell_type": "markdown",
   "id": "55ab655b-07d7-42de-8584-af1100f64dd5",
   "metadata": {},
   "source": [
    "## Activity 2.1 - Familiarization with Discrete FT"
   ]
  }
 ],
 "metadata": {
  "kernelspec": {
   "display_name": "Python 3 (ipykernel)",
   "language": "python",
   "name": "python3"
  },
  "language_info": {
   "codemirror_mode": {
    "name": "ipython",
    "version": 3
   },
   "file_extension": ".py",
   "mimetype": "text/x-python",
   "name": "python",
   "nbconvert_exporter": "python",
   "pygments_lexer": "ipython3",
   "version": "3.9.13"
  }
 },
 "nbformat": 4,
 "nbformat_minor": 5
}
