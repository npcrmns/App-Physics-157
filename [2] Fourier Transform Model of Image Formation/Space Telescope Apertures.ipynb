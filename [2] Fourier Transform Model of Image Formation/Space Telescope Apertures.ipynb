{
 "cells": [
  {
   "cell_type": "code",
   "execution_count": 1,
   "id": "1e43dcc1-7f7c-40c2-9966-67bb06e7202a",
   "metadata": {},
   "outputs": [],
   "source": [
    "import numpy as np\n",
    "import matplotlib.pyplot as plt\n",
    "import matplotlib.image as mpimg\n",
    "import matplotlib.gridspec as gridspec\n",
    "import PIL.ImageOps\n",
    "\n",
    "from matplotlib import cm\n",
    "from PIL import Image\n",
    "from mpl_toolkits.mplot3d import Axes3D\n",
    "from matplotlib.patches import RegularPolygon\n",
    "from matplotlib.patches import Rectangle\n",
    "\n",
    "plt.rcParams[\"figure.figsize\"] = (4,4)\n",
    "# plt.rcParams[\"figure.dpi\"] = 150\n",
    "plt.rcParams[\"savefig.dpi\"] = 250\n",
    "\n",
    "# Supress warnings\n",
    "import warnings\n",
    "warnings.filterwarnings('ignore')"
   ]
  },
  {
   "cell_type": "markdown",
   "id": "2bf47827-c854-4296-9dad-5131bd2088e6",
   "metadata": {},
   "source": [
    "# James Webb Space Telescope"
   ]
  },
  {
   "cell_type": "code",
   "execution_count": 2,
   "id": "08693991-7348-49fa-acaf-0d4fa7826187",
   "metadata": {},
   "outputs": [],
   "source": [
    "centers = [[0, 1, -1], [-1, 1, 0], [-1, 0, 1], [0, -1, 1], [1, -1, 0], [1, 0, -1], \n",
    "         [-1, 4, 1], [0, 5, 1], [1, 3, 0], [2, 2, 0], [2, 0, 0], [2, -2, 0], [1, -3, 0],\n",
    "          [0, -4, 0], [-1, -3, 0], [-2, -2, 0], [-2, 0, 0], [-2, 2, 0]]\n",
    "hcoords = [c[0] for c in centers] # horizontal cartesian coords\n",
    "vcoords = [2*np.sin(np.radians(60))*(c[1] - c[2])/3. for c in centers] # vertical cartersian coords"
   ]
  },
  {
   "cell_type": "code",
   "execution_count": 3,
   "id": "7bcf7a2c-a2ea-45b3-8f83-a006cc73313a",
   "metadata": {},
   "outputs": [
    {
     "data": {
      "image/png": "[encoded data removed]",
      "text/plain": [
       "<Figure size 400x400 with 1 Axes>"
      ]
     },
     "metadata": {},
     "output_type": "display_data"
    }
   ],
   "source": [
    "fig, ax = plt.subplots(1)\n",
    "ax.set_aspect('equal')\n",
    "\n",
    "# for drawing a single hexagon that will be mapped in the 2D space\n",
    "for x, y in zip(hcoords, vcoords):\n",
    "    hex = RegularPolygon((x, y), numVertices = 6, radius = 2/3, orientation = np.radians(30), \n",
    "                         facecolor = \"white\", alpha = 1, edgecolor = 'black')\n",
    "    ax.add_patch(hex)\n",
    "    fig.patch.set_facecolor('black')\n",
    "    \n",
    "ax.scatter(hcoords, vcoords, alpha = 0)\n",
    "\n",
    "plt.axis(\"off\")\n",
    "fig.savefig(\"james webb telescope.png\")"
   ]
  },
  {
   "cell_type": "code",
   "execution_count": 4,
   "id": "40b70b9f-81ac-4130-8c43-65ea1959f86c",
   "metadata": {},
   "outputs": [],
   "source": [
    "# telescope = Image.open(\"james webb telescope.png\")\n",
    "# inverted_telescope = np.array(PIL.ImageOps.invert(telescope))\n",
    "# inverted_telescope.save(\"inverted james webb telescope.jpg\")\n",
    "\n",
    "# plt.imshow(inverted_telescope)"
   ]
  },
  {
   "cell_type": "markdown",
   "id": "2305a362-6f5e-4683-9d26-8515a1be3861",
   "metadata": {},
   "source": [
    "# Hubble Space Telescope"
   ]
  },
  {
   "cell_type": "code",
   "execution_count": 5,
   "id": "0c9cdacc-6fdc-4d88-8617-c5889ce560b0",
   "metadata": {},
   "outputs": [],
   "source": [
    "N = 200\n",
    "x = np.linspace(-1, 1, num = N)\n",
    "y = x\n",
    "X, Y = np.meshgrid(x, y)\n",
    "R_main = np.sqrt(X**2 + Y**2)"
   ]
  },
  {
   "cell_type": "code",
   "execution_count": 6,
   "id": "6cadb9e8-1f3e-49fc-bf26-182445c5a279",
   "metadata": {},
   "outputs": [
    {
     "data": {
      "text/plain": [
       "(-0.5, 199.5, 199.5, -0.5)"
      ]
     },
     "execution_count": 6,
     "metadata": {},
     "output_type": "execute_result"
    },
    {
     "data": {
      "image/png": "[encoded data removed]",
      "text/plain": [
       "<Figure size 400x400 with 1 Axes>"
      ]
     },
     "metadata": {},
     "output_type": "display_data"
    }
   ],
   "source": [
    "A = np.zeros(np.shape(R_main))\n",
    "A[np.where(R_main < 0.5)] = 1\n",
    "A[np.where(R_main < 0.1)] = 0\n",
    "\n",
    "plt.imshow(A, cmap = \"gray\")\n",
    "plt.axis(\"off\")\n",
    "# plt.imsave(\"hubble mirror.png\", A, cmap = \"gray\")"
   ]
  }
 ],
 "metadata": {
  "kernelspec": {
   "display_name": "Python 3 (ipykernel)",
   "language": "python",
   "name": "python3"
  },
  "language_info": {
   "codemirror_mode": {
    "name": "ipython",
    "version": 3
   },
   "file_extension": ".py",
   "mimetype": "text/x-python",
   "name": "python",
   "nbconvert_exporter": "python",
   "pygments_lexer": "ipython3",
   "version": "3.9.13"
  }
 },
 "nbformat": 4,
 "nbformat_minor": 5
}
